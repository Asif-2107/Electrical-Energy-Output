{
 "cells": [
  {
   "cell_type": "markdown",
   "metadata": {
    "colab_type": "text",
    "id": "3cbb7fRy-eyr"
   },
   "source": [
    "# Artificial Neural Network using Linear Regression"
   ]
  },
  {
   "cell_type": "markdown",
   "metadata": {
    "colab_type": "text",
    "id": "8sNDnxE2-pwE"
   },
   "source": [
    "### Importing the libraries"
   ]
  },
  {
   "cell_type": "code",
   "execution_count": 20,
   "metadata": {},
   "outputs": [],
   "source": [
    "import pandas as pd\n",
    "import numpy as np\n",
    "import tensorflow as tf"
   ]
  },
  {
   "cell_type": "code",
   "execution_count": 21,
   "metadata": {
    "scrolled": true
   },
   "outputs": [
    {
     "data": {
      "text/plain": [
       "'2.13.0'"
      ]
     },
     "execution_count": 21,
     "metadata": {},
     "output_type": "execute_result"
    }
   ],
   "source": [
    "tf.__version__"
   ]
  },
  {
   "cell_type": "markdown",
   "metadata": {
    "colab_type": "text",
    "id": "AG3FQEch-yuA"
   },
   "source": [
    "## Part 1 - Data Preprocessing"
   ]
  },
  {
   "cell_type": "markdown",
   "metadata": {
    "colab_type": "text",
    "id": "-4zq8Mza_D9O"
   },
   "source": [
    "### Importing the dataset"
   ]
  },
  {
   "cell_type": "code",
   "execution_count": 23,
   "metadata": {},
   "outputs": [],
   "source": [
    "dataset = pd.read_excel('Folds5x2_pp.xlsx')\n",
    "X = dataset.iloc[:, :-1].values\n",
    "y = dataset.iloc[:, -1].values\n"
   ]
  },
  {
   "cell_type": "markdown",
   "metadata": {
    "colab_type": "text",
    "id": "VC6omXel_Up0"
   },
   "source": [
    "### Splitting the dataset into the Training set and Test set"
   ]
  },
  {
   "cell_type": "code",
   "execution_count": 25,
   "metadata": {},
   "outputs": [],
   "source": [
    "from sklearn.model_selection import train_test_split\n",
    "X_train, X_test, y_train, y_test = train_test_split(X,y, test_size = 0.3, random_state = 0)"
   ]
  },
  {
   "cell_type": "markdown",
   "metadata": {
    "colab_type": "text",
    "id": "_mSLlAT9_eyI"
   },
   "source": [
    "## Part 2 - Building the ANN"
   ]
  },
  {
   "cell_type": "markdown",
   "metadata": {
    "colab_type": "text",
    "id": "CsBULd_f_wLY"
   },
   "source": [
    "### Initializing the ANN"
   ]
  },
  {
   "cell_type": "code",
   "execution_count": 27,
   "metadata": {},
   "outputs": [],
   "source": [
    "ann = tf.keras.models.Sequential()"
   ]
  },
  {
   "cell_type": "markdown",
   "metadata": {
    "colab_type": "text",
    "id": "iitAFJS_ABUn"
   },
   "source": [
    "### Adding the input layer and the first hidden layer"
   ]
  },
  {
   "cell_type": "code",
   "execution_count": 30,
   "metadata": {},
   "outputs": [],
   "source": [
    "ann.add(tf.keras.layers.Dense(units = 6 ,activation='relu')) "
   ]
  },
  {
   "cell_type": "markdown",
   "metadata": {
    "colab_type": "text",
    "id": "-lb4kK_wAKbs"
   },
   "source": [
    "### Adding the second hidden layer"
   ]
  },
  {
   "cell_type": "code",
   "execution_count": 31,
   "metadata": {},
   "outputs": [],
   "source": [
    "ann.add(tf.keras.layers.Dense(units = 6 ,activation='relu'))"
   ]
  },
  {
   "cell_type": "markdown",
   "metadata": {
    "colab_type": "text",
    "id": "jwMOmKb3AdBY"
   },
   "source": [
    "### Adding the output layer"
   ]
  },
  {
   "cell_type": "code",
   "execution_count": 32,
   "metadata": {},
   "outputs": [],
   "source": [
    "ann.add(tf.keras.layers.Dense(units = 1)) #sigmoid for classification not regression"
   ]
  },
  {
   "cell_type": "markdown",
   "metadata": {
    "colab_type": "text",
    "id": "fq7e4fF6A1yy"
   },
   "source": [
    "## Part 3 - Training the ANN"
   ]
  },
  {
   "cell_type": "markdown",
   "metadata": {
    "colab_type": "text",
    "id": "qDeylAs2An25"
   },
   "source": [
    "### Compiling the ANN"
   ]
  },
  {
   "cell_type": "code",
   "execution_count": 34,
   "metadata": {},
   "outputs": [],
   "source": [
    "ann.compile(optimizer='adam', loss='mean_squared_error') #optimiser = st. Gradient descent. #loss = diff betn predicted and actual"
   ]
  },
  {
   "cell_type": "markdown",
   "metadata": {
    "colab_type": "text",
    "id": "YjVuiybYOo7r"
   },
   "source": [
    "### Training the ANN model on the Training set"
   ]
  },
  {
   "cell_type": "code",
   "execution_count": 38,
   "metadata": {},
   "outputs": [
    {
     "name": "stdout",
     "output_type": "stream",
     "text": [
      "Epoch 1/100\n",
      "210/210 [==============================] - 0s 374us/step - loss: 24.1468\n",
      "Epoch 2/100\n",
      "210/210 [==============================] - 0s 353us/step - loss: 24.1504\n",
      "Epoch 3/100\n",
      "210/210 [==============================] - 0s 350us/step - loss: 23.7955\n",
      "Epoch 4/100\n",
      "210/210 [==============================] - 0s 350us/step - loss: 24.1065\n",
      "Epoch 5/100\n",
      "210/210 [==============================] - 0s 351us/step - loss: 23.7432\n",
      "Epoch 6/100\n",
      "210/210 [==============================] - 0s 349us/step - loss: 23.7528\n",
      "Epoch 7/100\n",
      "210/210 [==============================] - 0s 349us/step - loss: 24.5288\n",
      "Epoch 8/100\n",
      "210/210 [==============================] - 0s 350us/step - loss: 23.6770\n",
      "Epoch 9/100\n",
      "210/210 [==============================] - 0s 365us/step - loss: 23.7459\n",
      "Epoch 10/100\n",
      "210/210 [==============================] - 0s 406us/step - loss: 23.9657\n",
      "Epoch 11/100\n",
      "210/210 [==============================] - 0s 370us/step - loss: 24.0215\n",
      "Epoch 12/100\n",
      "210/210 [==============================] - 0s 360us/step - loss: 23.9051\n",
      "Epoch 13/100\n",
      "210/210 [==============================] - 0s 374us/step - loss: 24.1662\n",
      "Epoch 14/100\n",
      "210/210 [==============================] - 0s 386us/step - loss: 24.1196\n",
      "Epoch 15/100\n",
      "210/210 [==============================] - 0s 383us/step - loss: 24.4770\n",
      "Epoch 16/100\n",
      "210/210 [==============================] - 0s 383us/step - loss: 24.0376\n",
      "Epoch 17/100\n",
      "210/210 [==============================] - 0s 362us/step - loss: 23.9819\n",
      "Epoch 18/100\n",
      "210/210 [==============================] - 0s 358us/step - loss: 23.8047\n",
      "Epoch 19/100\n",
      "210/210 [==============================] - 0s 352us/step - loss: 24.4684\n",
      "Epoch 20/100\n",
      "210/210 [==============================] - 0s 349us/step - loss: 23.7837\n",
      "Epoch 21/100\n",
      "210/210 [==============================] - 0s 352us/step - loss: 23.6245\n",
      "Epoch 22/100\n",
      "210/210 [==============================] - 0s 359us/step - loss: 23.8686\n",
      "Epoch 23/100\n",
      "210/210 [==============================] - 0s 353us/step - loss: 24.0218\n",
      "Epoch 24/100\n",
      "210/210 [==============================] - 0s 350us/step - loss: 23.9843\n",
      "Epoch 25/100\n",
      "210/210 [==============================] - 0s 348us/step - loss: 23.9797\n",
      "Epoch 26/100\n",
      "210/210 [==============================] - 0s 350us/step - loss: 23.6313\n",
      "Epoch 27/100\n",
      "210/210 [==============================] - 0s 2ms/step - loss: 24.0473\n",
      "Epoch 28/100\n",
      "210/210 [==============================] - 0s 2ms/step - loss: 24.0036\n",
      "Epoch 29/100\n",
      "210/210 [==============================] - 0s 658us/step - loss: 23.6368\n",
      "Epoch 30/100\n",
      "210/210 [==============================] - 0s 435us/step - loss: 24.3447\n",
      "Epoch 31/100\n",
      "210/210 [==============================] - 0s 388us/step - loss: 24.3586\n",
      "Epoch 32/100\n",
      "210/210 [==============================] - 0s 351us/step - loss: 23.7311\n",
      "Epoch 33/100\n",
      "210/210 [==============================] - 0s 391us/step - loss: 23.7092\n",
      "Epoch 34/100\n",
      "210/210 [==============================] - 0s 353us/step - loss: 24.0630\n",
      "Epoch 35/100\n",
      "210/210 [==============================] - 0s 351us/step - loss: 23.8547\n",
      "Epoch 36/100\n",
      "210/210 [==============================] - 0s 350us/step - loss: 23.7200\n",
      "Epoch 37/100\n",
      "210/210 [==============================] - 0s 350us/step - loss: 23.7590\n",
      "Epoch 38/100\n",
      "210/210 [==============================] - 0s 349us/step - loss: 24.2157\n",
      "Epoch 39/100\n",
      "210/210 [==============================] - 0s 349us/step - loss: 24.2911\n",
      "Epoch 40/100\n",
      "210/210 [==============================] - 0s 348us/step - loss: 23.6202\n",
      "Epoch 41/100\n",
      "210/210 [==============================] - 0s 349us/step - loss: 24.2701\n",
      "Epoch 42/100\n",
      "210/210 [==============================] - 0s 349us/step - loss: 24.3111\n",
      "Epoch 43/100\n",
      "210/210 [==============================] - 0s 349us/step - loss: 24.0488\n",
      "Epoch 44/100\n",
      "210/210 [==============================] - 0s 350us/step - loss: 23.8348\n",
      "Epoch 45/100\n",
      "210/210 [==============================] - 0s 349us/step - loss: 24.3776\n",
      "Epoch 46/100\n",
      "210/210 [==============================] - 0s 349us/step - loss: 23.6115\n",
      "Epoch 47/100\n",
      "210/210 [==============================] - 0s 346us/step - loss: 24.1768\n",
      "Epoch 48/100\n",
      "210/210 [==============================] - 0s 348us/step - loss: 23.7279\n",
      "Epoch 49/100\n",
      "210/210 [==============================] - 0s 350us/step - loss: 23.8536\n",
      "Epoch 50/100\n",
      "210/210 [==============================] - 0s 350us/step - loss: 24.2629\n",
      "Epoch 51/100\n",
      "210/210 [==============================] - 0s 349us/step - loss: 24.3028\n",
      "Epoch 52/100\n",
      "210/210 [==============================] - 0s 350us/step - loss: 23.8245\n",
      "Epoch 53/100\n",
      "210/210 [==============================] - 0s 365us/step - loss: 24.2440\n",
      "Epoch 54/100\n",
      "210/210 [==============================] - 0s 376us/step - loss: 24.1113\n",
      "Epoch 55/100\n",
      "210/210 [==============================] - 0s 364us/step - loss: 23.8748\n",
      "Epoch 56/100\n",
      "210/210 [==============================] - 0s 353us/step - loss: 24.5795\n",
      "Epoch 57/100\n",
      "210/210 [==============================] - 0s 345us/step - loss: 24.4287\n",
      "Epoch 58/100\n",
      "210/210 [==============================] - 0s 357us/step - loss: 23.6808\n",
      "Epoch 59/100\n",
      "210/210 [==============================] - 0s 360us/step - loss: 24.2890\n",
      "Epoch 60/100\n",
      "210/210 [==============================] - 0s 355us/step - loss: 23.8678\n",
      "Epoch 61/100\n",
      "210/210 [==============================] - 0s 345us/step - loss: 23.8616\n",
      "Epoch 62/100\n",
      "210/210 [==============================] - 0s 376us/step - loss: 23.6032\n",
      "Epoch 63/100\n",
      "210/210 [==============================] - 0s 379us/step - loss: 24.0633\n",
      "Epoch 64/100\n",
      "210/210 [==============================] - 0s 357us/step - loss: 23.5960\n",
      "Epoch 65/100\n",
      "210/210 [==============================] - 0s 361us/step - loss: 24.0907\n",
      "Epoch 66/100\n",
      "210/210 [==============================] - 0s 354us/step - loss: 24.5123\n",
      "Epoch 67/100\n",
      "210/210 [==============================] - 0s 354us/step - loss: 24.5497\n",
      "Epoch 68/100\n",
      "210/210 [==============================] - 0s 364us/step - loss: 23.7683\n",
      "Epoch 69/100\n",
      "210/210 [==============================] - 0s 350us/step - loss: 23.4845\n",
      "Epoch 70/100\n",
      "210/210 [==============================] - 0s 350us/step - loss: 24.5834\n",
      "Epoch 71/100\n",
      "210/210 [==============================] - 0s 348us/step - loss: 23.9033\n",
      "Epoch 72/100\n",
      "210/210 [==============================] - 0s 349us/step - loss: 23.5988\n",
      "Epoch 73/100\n",
      "210/210 [==============================] - 0s 349us/step - loss: 23.5625\n",
      "Epoch 74/100\n",
      "210/210 [==============================] - 0s 369us/step - loss: 24.0051\n",
      "Epoch 75/100\n",
      "210/210 [==============================] - 0s 353us/step - loss: 24.0786\n",
      "Epoch 76/100\n",
      "210/210 [==============================] - 0s 362us/step - loss: 24.0098\n",
      "Epoch 77/100\n",
      "210/210 [==============================] - 0s 353us/step - loss: 23.7621\n",
      "Epoch 78/100\n",
      "210/210 [==============================] - 0s 366us/step - loss: 23.9219\n",
      "Epoch 79/100\n",
      "210/210 [==============================] - 0s 355us/step - loss: 24.0664\n",
      "Epoch 80/100\n",
      "210/210 [==============================] - 0s 385us/step - loss: 24.1008\n",
      "Epoch 81/100\n",
      "210/210 [==============================] - 0s 371us/step - loss: 24.0595\n",
      "Epoch 82/100\n",
      "210/210 [==============================] - 0s 365us/step - loss: 23.3758\n",
      "Epoch 83/100\n",
      "210/210 [==============================] - 0s 360us/step - loss: 23.9299\n",
      "Epoch 84/100\n",
      "210/210 [==============================] - 0s 353us/step - loss: 23.8103\n",
      "Epoch 85/100\n",
      "210/210 [==============================] - 0s 350us/step - loss: 23.6887\n",
      "Epoch 86/100\n",
      "210/210 [==============================] - 0s 350us/step - loss: 23.9879\n",
      "Epoch 87/100\n",
      "210/210 [==============================] - 0s 355us/step - loss: 23.6744\n",
      "Epoch 88/100\n",
      "210/210 [==============================] - 0s 352us/step - loss: 23.6764\n",
      "Epoch 89/100\n",
      "210/210 [==============================] - 0s 353us/step - loss: 23.6582\n",
      "Epoch 90/100\n",
      "210/210 [==============================] - 0s 349us/step - loss: 23.7556\n",
      "Epoch 91/100\n",
      "210/210 [==============================] - 0s 353us/step - loss: 24.4953\n",
      "Epoch 92/100\n",
      "210/210 [==============================] - 0s 382us/step - loss: 23.8160\n",
      "Epoch 93/100\n",
      "210/210 [==============================] - 0s 378us/step - loss: 23.7023\n",
      "Epoch 94/100\n",
      "210/210 [==============================] - 0s 360us/step - loss: 23.8306\n",
      "Epoch 95/100\n",
      "210/210 [==============================] - 0s 359us/step - loss: 23.9115\n",
      "Epoch 96/100\n"
     ]
    },
    {
     "name": "stdout",
     "output_type": "stream",
     "text": [
      "210/210 [==============================] - 0s 371us/step - loss: 23.7330\n",
      "Epoch 97/100\n",
      "210/210 [==============================] - 0s 365us/step - loss: 23.7255\n",
      "Epoch 98/100\n",
      "210/210 [==============================] - 0s 350us/step - loss: 24.6398\n",
      "Epoch 99/100\n",
      "210/210 [==============================] - 0s 349us/step - loss: 23.8580\n",
      "Epoch 100/100\n",
      "210/210 [==============================] - 0s 360us/step - loss: 23.9767\n"
     ]
    },
    {
     "data": {
      "text/plain": [
       "<keras.src.callbacks.History at 0x15df60d00>"
      ]
     },
     "execution_count": 38,
     "metadata": {},
     "output_type": "execute_result"
    }
   ],
   "source": [
    "ann.fit(X_train, y_train, epochs = 100, batch_size = 32)"
   ]
  },
  {
   "cell_type": "markdown",
   "metadata": {
    "colab_type": "text",
    "id": "0H0zKKNEBLD5"
   },
   "source": [
    "### Predicting the results of the Test set"
   ]
  },
  {
   "cell_type": "code",
   "execution_count": 42,
   "metadata": {},
   "outputs": [
    {
     "name": "stdout",
     "output_type": "stream",
     "text": [
      "90/90 [==============================] - 0s 297us/step\n"
     ]
    },
    {
     "data": {
      "text/plain": [
       "array([[431.25, 431.23],\n",
       "       [459.25, 460.01],\n",
       "       [464.44, 461.14],\n",
       "       ...,\n",
       "       [434.53, 426.86],\n",
       "       [434.04, 433.4 ],\n",
       "       [435.78, 441.94]])"
      ]
     },
     "execution_count": 42,
     "metadata": {},
     "output_type": "execute_result"
    }
   ],
   "source": [
    "y_pred = ann.predict(X_test)\n",
    "np.set_printoptions(precision= 2)\n",
    "np.concatenate((y_pred.reshape(len(y_pred),1),y_test.reshape(len(y_test),1)),1)"
   ]
  },
  {
   "cell_type": "code",
   "execution_count": null,
   "metadata": {},
   "outputs": [],
   "source": []
  }
 ],
 "metadata": {
  "colab": {
   "collapsed_sections": [],
   "name": "Artificial Neural Network",
   "provenance": [],
   "toc_visible": true
  },
  "kernelspec": {
   "display_name": "Python 3 (ipykernel)",
   "language": "python",
   "name": "python3"
  },
  "language_info": {
   "codemirror_mode": {
    "name": "ipython",
    "version": 3
   },
   "file_extension": ".py",
   "mimetype": "text/x-python",
   "name": "python",
   "nbconvert_exporter": "python",
   "pygments_lexer": "ipython3",
   "version": "3.10.9"
  }
 },
 "nbformat": 4,
 "nbformat_minor": 1
}
